{
 "cells": [
  {
   "cell_type": "code",
   "execution_count": 4,
   "metadata": {},
   "outputs": [
    {
     "name": "stdout",
     "output_type": "stream",
     "text": [
      "Message ts: 2020-07-30 05:14:20, rd: 1596086060353 sending completed!\n"
     ]
    },
    {
     "ename": "KeyboardInterrupt",
     "evalue": "",
     "output_type": "error",
     "traceback": [
      "\u001b[0;31m---------------------------------------------------------------------------\u001b[0m",
      "\u001b[0;31mKeyboardInterrupt\u001b[0m                         Traceback (most recent call last)",
      "\u001b[0;32m<ipython-input-4-b97d53db05a9>\u001b[0m in \u001b[0;36m<module>\u001b[0;34m()\u001b[0m\n\u001b[1;32m     51\u001b[0m             \u001b[0;31m#print(record_metadata2)\u001b[0m\u001b[0;34m\u001b[0m\u001b[0;34m\u001b[0m\u001b[0m\n\u001b[1;32m     52\u001b[0m             \u001b[0mprint\u001b[0m\u001b[0;34m(\u001b[0m\u001b[0;34m\"Message ts: %s, rd: %s sending completed!\"\u001b[0m\u001b[0;34m%\u001b[0m\u001b[0;34m(\u001b[0m\u001b[0mt\u001b[0m\u001b[0;34m,\u001b[0m\u001b[0mmillis\u001b[0m\u001b[0;34m)\u001b[0m\u001b[0;34m)\u001b[0m\u001b[0;34m\u001b[0m\u001b[0m\n\u001b[0;32m---> 53\u001b[0;31m             \u001b[0mtime\u001b[0m\u001b[0;34m.\u001b[0m\u001b[0msleep\u001b[0m\u001b[0;34m(\u001b[0m\u001b[0;36m1\u001b[0m\u001b[0;34m)\u001b[0m\u001b[0;34m\u001b[0m\u001b[0m\n\u001b[0m\u001b[1;32m     54\u001b[0m \u001b[0;34m\u001b[0m\u001b[0m\n\u001b[1;32m     55\u001b[0m         \u001b[0;32mexcept\u001b[0m \u001b[0mException\u001b[0m \u001b[0;32mas\u001b[0m \u001b[0me\u001b[0m\u001b[0;34m:\u001b[0m\u001b[0;34m\u001b[0m\u001b[0m\n",
      "\u001b[0;31mKeyboardInterrupt\u001b[0m: "
     ]
    }
   ],
   "source": [
    "from kafka import KafkaProducer\n",
    "import sys, random, datetime, time, json\n",
    "import time\n",
    "from IPython.display import clear_output, display\n",
    "\n",
    "if __name__ == \"__main__\":\n",
    "    # 設定要連線到Kafka集群的相關設定, 並產生一個Kafka的Producer的實例\n",
    "    producer1 = KafkaProducer(\n",
    "        # 指定Kafka集群伺服器\n",
    "        bootstrap_servers = [\"kafka:9092\"],\n",
    "        # 指定msgKey的序列化器, 若Key為None, 無法序列化, 透過producer直接給值\n",
    "        #key_serializer = str.encode,\n",
    "        # 指定msgValue的序列化器\n",
    "        #value_serializer = str.encode,\n",
    "        value_serializer = lambda m: json.dumps(m).encode('ascii'),\n",
    "    )\n",
    "    \n",
    "    producer2 = KafkaProducer(\n",
    "        # 指定Kafka集群伺服器\n",
    "        bootstrap_servers = [\"kafka:9092\"],\n",
    "        # 指定msgKey的序列化器, 若Key為None, 無法序列化, 透過producer直接給值\n",
    "        #key_serializer = str.encode,\n",
    "        # 指定msgValue的序列化器\n",
    "        #value_serializer = str.encode,\n",
    "        value_serializer = lambda m: json.dumps(m).encode('ascii'),\n",
    "    )\n",
    "    \n",
    "    print(\"Start sending messages ...\")\n",
    "    while True:\n",
    "        clear_output(wait=True)\n",
    "        try:\n",
    "            device_id = \"001\"\n",
    "            t = datetime.datetime.now().strftime(\"%Y-%m-%d %H:%M:%S\")\n",
    "            temp = round(random.uniform(18, 30), 2)\n",
    "            humidity = random.randint(0, 100)\n",
    "            millis = int(round(time.time() * 1000))\n",
    "\n",
    "            tt = {\"device_id\": device_id, \"timestamp\": t, \"Temperature\": temp, \"rd\":millis}\n",
    "            hh = {\"device_id\": device_id, \"timestamp\": t, \"Humidity\": humidity, \"rd\":millis }\n",
    "            \n",
    "            # 產生要發佈到Kafka的訊息\n",
    "    #         producer1.send(topic=\"temperature\", value=tt)\n",
    "    #         producer2.send(topic=\"humidity\", value=hh)\n",
    "            # producer.send(topic=topicName, key=msgKey, value=msgValue)\n",
    "            future1 = producer1.send(topic=\"temperature\", value=tt)\n",
    "            record_metadata1 = future1.get(timeout=10)\n",
    "            #print(record_metadata1)\n",
    "\n",
    "            future2 = producer2.send(topic=\"humidity\", value=hh)\n",
    "            record_metadata2 = future2.get(timeout=10)\n",
    "            #print(record_metadata2)\n",
    "            print(\"Message ts: %s, rd: %s sending completed!\"%(t,millis))\n",
    "            time.sleep(1)\n",
    "\n",
    "        except Exception as e:\n",
    "            # 錯誤處理\n",
    "            e_type, e_value, e_traceback = sys.exc_info()\n",
    "            print(\"type ==> %s\" % (e_type))\n",
    "            print(\"value ==> %s\" % (e_value))\n",
    "            print(\"traceback ==> file name: %s\" % (e_traceback.tb_frame.f_code.co_filename))\n",
    "            print(\"traceback ==> line no: %s\" % (e_traceback.tb_lineno))\n",
    "            print(\"traceback ==> function name: %s\" % (e_traceback.tb_frame.f_code.co_name))\n",
    "        \n",
    "        #finally:\n",
    "            #time.sleep(1)\n",
    "    # 關掉Producer實例的連線\n",
    "    producer1.close()\n",
    "    producer2.close()"
   ]
  },
  {
   "cell_type": "code",
   "execution_count": null,
   "metadata": {},
   "outputs": [],
   "source": []
  },
  {
   "cell_type": "code",
   "execution_count": null,
   "metadata": {},
   "outputs": [],
   "source": []
  }
 ],
 "metadata": {
  "kernelspec": {
   "display_name": "Python 3",
   "language": "python",
   "name": "python3"
  }
 },
 "nbformat": 4,
 "nbformat_minor": 2
}
