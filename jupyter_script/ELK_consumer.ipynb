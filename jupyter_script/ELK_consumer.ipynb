{
 "cells": [
  {
   "cell_type": "code",
   "execution_count": 2,
   "metadata": {},
   "outputs": [
    {
     "name": "stdout",
     "output_type": "stream",
     "text": [
      "Requirement already satisfied: elasticsearch in /opt/conda/lib/python3.6/site-packages (6.3.1)\r\n",
      "Requirement already satisfied: urllib3>=1.21.1 in /opt/conda/lib/python3.6/site-packages (from elasticsearch) (1.23)\r\n"
     ]
    }
   ],
   "source": [
    "!pip install elasticsearch"
   ]
  },
  {
   "cell_type": "code",
   "execution_count": 3,
   "metadata": {},
   "outputs": [
    {
     "data": {
      "text/plain": [
       "<Response [200]>"
      ]
     },
     "execution_count": 3,
     "metadata": {},
     "output_type": "execute_result"
    }
   ],
   "source": [
    "import requests\n",
    "url = 'http://192.168.33.10:9200'\n",
    "data = requests.get(url)\n",
    "data"
   ]
  },
  {
   "cell_type": "code",
   "execution_count": 4,
   "metadata": {},
   "outputs": [
    {
     "data": {
      "text/plain": [
       "<Elasticsearch([{'host': '192.168.33.10', 'port': 9200}])>"
      ]
     },
     "execution_count": 4,
     "metadata": {},
     "output_type": "execute_result"
    }
   ],
   "source": [
    "from elasticsearch import Elasticsearch\n",
    "es = Elasticsearch('http://192.168.33.10:9200')\n",
    "es"
   ]
  },
  {
   "cell_type": "code",
   "execution_count": 5,
   "metadata": {},
   "outputs": [
    {
     "data": {
      "text/plain": [
       "{'author': 'Justin',\n",
       " 'text': '物聯網平台ELK實作',\n",
       " 'timestamp': datetime.datetime(2020, 7, 30, 4, 40, 43, 163373)}"
      ]
     },
     "execution_count": 5,
     "metadata": {},
     "output_type": "execute_result"
    }
   ],
   "source": [
    "from datetime import datetime\n",
    "doc = {\n",
    "    'author': 'Justin',\n",
    "    'text': '物聯網平台ELK實作',\n",
    "    'timestamp': datetime.now()\n",
    "}\n",
    "doc"
   ]
  },
  {
   "cell_type": "code",
   "execution_count": 6,
   "metadata": {},
   "outputs": [
    {
     "name": "stdout",
     "output_type": "stream",
     "text": [
      "created\n"
     ]
    }
   ],
   "source": [
    "res = es.index(index='test', doc_type='elk', body=doc)\n",
    "print(res['result'])"
   ]
  },
  {
   "cell_type": "code",
   "execution_count": 7,
   "metadata": {},
   "outputs": [
    {
     "name": "stdout",
     "output_type": "stream",
     "text": [
      "2020-07-29T17:02:39.607215 Justin: 物聯網平台ELK實作\n",
      "2020-07-30T03:35:45.764282 Justin: 物聯網平台ELK實作\n"
     ]
    }
   ],
   "source": [
    "res = es.search(index='test', body={\"query\":{\"match_all\":{}}})\n",
    "for hit in res['hits']['hits']:\n",
    "    print(\"%(timestamp)s %(author)s: %(text)s\" % hit[\"_source\"])"
   ]
  },
  {
   "cell_type": "code",
   "execution_count": 8,
   "metadata": {},
   "outputs": [
    {
     "name": "stdout",
     "output_type": "stream",
     "text": [
      "2020-07-30 05:13:30, rd= 1596086010347 created\n",
      "type ==> <class 'KeyboardInterrupt'>\n",
      "value ==> \n",
      "traceback ==> file name: <ipython-input-8-ad8b0d0ffd16>\n",
      "traceback ==> line no: 40\n",
      "traceback ==> function name: <module>\n"
     ]
    }
   ],
   "source": [
    "from kafka import KafkaConsumer\n",
    "import sys, json, pymysql, pymongo\n",
    "from elasticsearch import Elasticsearch\n",
    "import datetime\n",
    "import time\n",
    "from IPython.display import clear_output, display\n",
    "\n",
    "if __name__ == \"__main__\":\n",
    "\n",
    "    # 與 MongoDB連線\n",
    "    client = pymongo.MongoClient(host=\"mongodb\", port=27017)\n",
    "    # 指定為 test 資料庫\n",
    "    db = client.test\n",
    "    # 指定 temp_humidity 集合, MongoDB的每個資料庫又包含許多集合(collection), 類似於關聯性資料庫中的表\n",
    "    collection = db.temp_humidity\n",
    "\n",
    "    # 設定要連線到Kafka集群的相關設定, 產生一個Kafka的Consumer的實例\n",
    "    consumer = KafkaConsumer(\n",
    "        # 指定Kafka集群伺服器\n",
    "        bootstrap_servers=[\"kafka:9092\"],\n",
    "        # ConsumerGroup的名稱, 可以不指定\n",
    "        #group_id=\"cg_001\",\n",
    "        # 指定msgKey的反序列化器, 若Key為None, 無法反序列化\n",
    "        # key_deserializer=bytes.decode,\n",
    "        # 指定msgValue的反序列化器\n",
    "        #value_deserializer=bytes.decode,\n",
    "        value_deserializer=lambda m: json.loads(m.decode('ascii')),\n",
    "        # 是否從這個ConsumerGroup尚未讀取的partition / offset開始讀\n",
    "        auto_offset_reset=\"earliest\",\n",
    "        enable_auto_commit=True\n",
    "    )\n",
    "   \n",
    "    # 讓Consumer向Kafka集群訂閱指定的topic\n",
    "    consumer.subscribe(topics=\"TEMP_HUMIDITY_ENRICHED\")\n",
    "    \n",
    "    # 持續的拉取Kafka有進來的訊息\n",
    "    try:\n",
    "        print(\"Now listening for incoming messages ...\")\n",
    "        # 持續監控是否有新的record進來\n",
    "        for record in consumer:\n",
    "            clear_output(wait=True)\n",
    "            topic = record.topic\n",
    "            partition = record.partition\n",
    "            offset = record.offset\n",
    "            timestamp = record.timestamp\n",
    "            # 取出msgKey與msgValue\n",
    "            msgKey = record.key\n",
    "            msgValue = record.value\n",
    "            # 秀出metadata與msgKey & msgValue訊息\n",
    "            #print(\"topic=%s, partition=%s, offset=%s : (key=%s, value=%s)\" % (record.topic, record.partition, \n",
    "            #                                                                  record.offset, record.key, record.value))\n",
    "            #j = {\"device_id\": msgValue[\"T_DEVICE_ID\"], \"timestamp\": msgValue[\"T_TIMESTAMP\"], \n",
    "            #      \"Temperature\": msgValue[\"TEMPERATURE\"], \"Humidity\": msgValue[\"HUMIDITY\"]}\n",
    "            #print(\"json=\",  j)\n",
    "            \n",
    "            # 將資料存入 mongodb\n",
    "            # 存入單筆\n",
    "            #result = collection.insert_one(j)\n",
    "            # 存入多筆\n",
    "            #result = collection.insert_many()\n",
    "            #print(result)\n",
    "            \n",
    "            #將資料寫入ES\n",
    "            dt = datetime.datetime.strptime(msgValue[\"T_TIMESTAMP\"], \"%Y-%m-%d %H:%M:%S\")\n",
    "            #es_id = time.time()\n",
    "            es_id = msgValue['T_RD']\n",
    "            #print(dt)\n",
    "            doc = {\"device_id\": msgValue[\"T_DEVICE_ID\"], \"timestamp\": dt, \"logtime\": msgValue['T_TIMESTAMP'],\n",
    "                  \"Temperature\": msgValue[\"TEMPERATURE\"], \"Humidity\": msgValue[\"HUMIDITY\"], \"rd\": msgValue['T_RD']}\n",
    "            #print(doc)\n",
    "            res = es.index(index='ltu-iot', doc_type='elk', id=es_id, body=doc)\n",
    "            print(\"%s, rd= %s %s\"%(dt, msgValue['T_RD'],res['result']))\n",
    "\n",
    "    except:\n",
    "        # 錯誤處理\n",
    "        e_type, e_value, e_traceback = sys.exc_info()\n",
    "        print(\"type ==> %s\" % (e_type))\n",
    "        print(\"value ==> %s\" % (e_value))\n",
    "        print(\"traceback ==> file name: %s\" % (e_traceback.tb_frame.f_code.co_filename))\n",
    "        print(\"traceback ==> line no: %s\" % (e_traceback.tb_lineno))\n",
    "        print(\"traceback ==> function name: %s\" % (e_traceback.tb_frame.f_code.co_name))\n",
    "    finally:\n",
    "        consumer.close()"
   ]
  },
  {
   "cell_type": "code",
   "execution_count": null,
   "metadata": {},
   "outputs": [],
   "source": []
  },
  {
   "cell_type": "code",
   "execution_count": null,
   "metadata": {},
   "outputs": [],
   "source": []
  }
 ],
 "metadata": {
  "kernelspec": {
   "display_name": "Python 3",
   "language": "python",
   "name": "python3"
  },
  "language_info": {
   "codemirror_mode": {
    "name": "ipython",
    "version": 3
   },
   "file_extension": ".py",
   "mimetype": "text/x-python",
   "name": "python",
   "nbconvert_exporter": "python",
   "pygments_lexer": "ipython3",
   "version": "3.6.5"
  }
 },
 "nbformat": 4,
 "nbformat_minor": 2
}
